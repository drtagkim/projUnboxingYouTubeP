{
 "cells": [
  {
   "cell_type": "markdown",
   "metadata": {},
   "source": [
    "selenium, bs4를 설치해 브라우저를 원격 조정하자.\n",
    "\n",
    "컴퓨터가 최소 8GB 이상, i5 이상의 CPU, Windows 환경을 추천한다."
   ]
  },
  {
   "cell_type": "code",
   "execution_count": null,
   "metadata": {},
   "outputs": [],
   "source": [
    "!pip install selenium"
   ]
  },
  {
   "cell_type": "code",
   "execution_count": null,
   "metadata": {},
   "outputs": [],
   "source": [
    "!pip install bs4"
   ]
  },
  {
   "cell_type": "markdown",
   "metadata": {},
   "source": [
    "Firefox를 설치하자.\n",
    "\n",
    "다음으로 geckodriver를 설치해야 한다.\n",
    "\n",
    "https://github.com/mozilla/geckodriver/releases 에서 본인에게 맞는 OS를 골라 설치하자.\n",
    "\n",
    "압축을 풀고 C:/Windows 폴더에 geckodriver.exe를 복사한다. 이때 관리자 권한이 필요하다. 리눅스나 mac사용자는 /usr/bin 으로 geckodriver를 옮기면 된다.\n",
    "\n",
    "예를 들어, Linux 사용자는 터미널에서\n",
    "```\n",
    "    $ wget https://github.com/mozilla/geckodriver/releases/download/v0.27.0/geckodriver-v0.27.0-linux64.tar.gz\n",
    "    $ sudo sh -c 'tar -x geckodriver -zf geckodriver-v0.27.0-linux64.tar.gz -O > /usr/bin/geckodriver'\n",
    "    $ sudo chmod +x /usr/bin/geckodriver\n",
    "    $ rm geckodriver-v0.73.0-linux64.tar.gz\n",
    "```\n",
    "\n"
   ]
  },
  {
   "cell_type": "code",
   "execution_count": 1,
   "metadata": {},
   "outputs": [],
   "source": [
    "from selenium import webdriver #웹드라이브\n",
    "from selenium.webdriver.firefox.options import Options #Firefox options\n",
    "from selenium.webdriver.common.keys import Keys #key emulation\n",
    "from bs4 import BeautifulSoup as BS"
   ]
  },
  {
   "cell_type": "code",
   "execution_count": 2,
   "metadata": {},
   "outputs": [],
   "source": [
    "import time"
   ]
  },
  {
   "cell_type": "code",
   "execution_count": 3,
   "metadata": {},
   "outputs": [],
   "source": [
    "'''\n",
    "Factory - Firefox\n",
    "'''\n",
    "def fire_fox_browser(headless=False,image_allow=True):\n",
    "    options=Options()\n",
    "    profile=webdriver.FirefoxProfile()\n",
    "    profile.set_preference('permissions.default.image',1 if image_allow else 2)\n",
    "    options.headless=headless\n",
    "    driver=webdriver.Firefox(firefox_profile=profile,options=options)\n",
    "    return driver"
   ]
  },
  {
   "cell_type": "code",
   "execution_count": 4,
   "metadata": {},
   "outputs": [],
   "source": [
    "browser=fire_fox_browser(image_allow=False) #이미지를 표시하지 않는다. 렌더링을 하지 않아 속도에서 이득\n",
    "#browser=fire_fox_browser(True) #headless mode로 열린다. 즉, 브라우저 창은 실제로 보이지 않게 된다."
   ]
  },
  {
   "cell_type": "code",
   "execution_count": 5,
   "metadata": {},
   "outputs": [],
   "source": [
    "youtube_url=\"https://www.youtube.com/watch?v=9kU6jb8XXpw\" #펭TV 남극 동물의 한국식 여름 휴가, 코멘트 많은\n",
    "youtube_url_no_comment=\"https://www.youtube.com/watch?v=S2qJAO03SsU\" #코멘트 없는\n",
    "youtube_url_few_comment=\"https://www.youtube.com/watch?v=-5WjyN53Zw4\" #코멘트 적은"
   ]
  },
  {
   "cell_type": "code",
   "execution_count": 6,
   "metadata": {},
   "outputs": [],
   "source": [
    "browser.get(youtube_url)"
   ]
  },
  {
   "cell_type": "markdown",
   "metadata": {},
   "source": [
    "Key END로 화면을 스크롤 다운시킨다. 그리고 스크롤 이후 content 업데이트가 추가로 있는지 확인하기 위해 Javascript 실행하여 결과를 비교한다."
   ]
  },
  {
   "cell_type": "code",
   "execution_count": 7,
   "metadata": {},
   "outputs": [],
   "source": [
    "def press_down(h,tb):\n",
    "    h.send_keys(Keys.END)\n",
    "    time.sleep(tb)\n",
    "'''\n",
    "driver: 웹브라우저\n",
    "time_buff: 스크롤 체크 시간\n",
    "trial: 더 이상 콘텐츠가 있는지 확인하기 위한 control code\n",
    "'''\n",
    "def scroll_down(driver,time_buff=0.5):\n",
    "    initial_height = driver.execute_script(\"return window.scrollY\")\n",
    "    html=driver.find_element_by_tag_name('html')\n",
    "    press_down(html,time_buff)\n",
    "    press_down(html,time_buff)\n",
    "    last_height = driver.execute_script(\"return window.scrollY\")\n",
    "    if initial_height == last_height:\n",
    "        return False\n",
    "    while True:\n",
    "        time.sleep(time_buff)\n",
    "        new_height = driver.execute_script(\"return window.scrollY\")\n",
    "        if new_height==last_height:\n",
    "            break\n",
    "        last_height=new_height\n",
    "    return True"
   ]
  },
  {
   "cell_type": "code",
   "execution_count": 8,
   "metadata": {},
   "outputs": [],
   "source": [
    "def remove_element_by_id(b,s):\n",
    "    b.execute_script(\"document.getElementById('{}').remove();\".format(s))"
   ]
  },
  {
   "cell_type": "code",
   "execution_count": 9,
   "metadata": {},
   "outputs": [],
   "source": [
    "def remove_comments(b):\n",
    "    script='''\n",
    "    document.querySelectorAll(\"#replies\").forEach(function(item,index){item.remove();});\n",
    "    var reviews=document.querySelectorAll('#body');\n",
    "    reviews.forEach(function(item,index){\n",
    "        if(index<(reviews.length-1)) item.remove();\n",
    "    })\n",
    "    '''\n",
    "    b.execute_script(script)"
   ]
  },
  {
   "cell_type": "code",
   "execution_count": 10,
   "metadata": {},
   "outputs": [],
   "source": [
    "def reply_more(b,tb=1):\n",
    "    eles=b.find_elements_by_xpath('//yt-formatted-string[contains(.,\"View\")]')\n",
    "    for ele in eles:\n",
    "        if ele.text is not \"\":\n",
    "            ele.click()\n",
    "    time.sleep(tb)\n",
    "    eles=b.find_elements_by_xpath('//yt-formatted-string[contains(.,\"Show more replies\")]')\n",
    "    for ele in eles:\n",
    "        if ele.text is not \"\":\n",
    "            ele.click()\n",
    "    time.sleep(tb)   "
   ]
  },
  {
   "cell_type": "markdown",
   "metadata": {},
   "source": [
    "script='''\n",
    "    var eles=document.querySelectorAll('[slot*=\"more\"]');\n",
    "    eles.forEach(function(item,index){item.click();});\n",
    "    '''\n",
    "    b.execute_script(script)"
   ]
  },
  {
   "cell_type": "code",
   "execution_count": 11,
   "metadata": {},
   "outputs": [],
   "source": [
    "def text_more(b,tb=1):\n",
    "    eles=b.find_elements_by_xpath('//span[contains(.,\"Read more\")]')\n",
    "    for ele in eles:\n",
    "        if ele.text is not \"\":\n",
    "            ele.click()\n",
    "    time.sleep(tb)"
   ]
  },
  {
   "cell_type": "code",
   "execution_count": 12,
   "metadata": {},
   "outputs": [],
   "source": [
    "def collect_comments(b):\n",
    "    page=b.page_source"
   ]
  },
  {
   "cell_type": "code",
   "execution_count": 13,
   "metadata": {},
   "outputs": [],
   "source": [
    "def test(u):\n",
    "    browser.get(u)\n",
    "    time.sleep(2)\n",
    "    remove_element_by_id(browser,\"related\")\n",
    "    time.sleep(1)\n",
    "    remove_element_by_id(browser,'movie_player')\n",
    "    time.sleep(1)\n",
    "    total_comment=[]\n",
    "    while True:\n",
    "        if scroll_down(browser,time_buff=2) is False:\n",
    "            print('break')\n",
    "            break\n",
    "        reply_more(browser)\n",
    "        reply_more(browser)\n",
    "        reply_more(browser)\n",
    "        text_more(browser)\n",
    "        page=browser.page_source\n",
    "        soup=BS(page,'html.parser')\n",
    "        total_comment+=[ele.text for ele in soup.select('#content-text')]\n",
    "        remove_comments(browser)    \n",
    "        print(len(total_comment))\n",
    "    return total_comment"
   ]
  },
  {
   "cell_type": "code",
   "execution_count": null,
   "metadata": {},
   "outputs": [
    {
     "name": "stdout",
     "output_type": "stream",
     "text": [
      "69\n"
     ]
    }
   ],
   "source": [
    "comments=test(youtube_url_few_comment)"
   ]
  },
  {
   "cell_type": "code",
   "execution_count": 36,
   "metadata": {},
   "outputs": [],
   "source": [
    "import pandas as pd"
   ]
  },
  {
   "cell_type": "code",
   "execution_count": 88,
   "metadata": {},
   "outputs": [],
   "source": [
    "pd.Series(comments).to_clipboard()"
   ]
  },
  {
   "cell_type": "code",
   "execution_count": 38,
   "metadata": {},
   "outputs": [
    {
     "data": {
      "text/plain": [
       "'안때리실겁니다\\n원하시면 넣어보는거지요'"
      ]
     },
     "execution_count": 38,
     "metadata": {},
     "output_type": "execute_result"
    }
   ],
   "source": [
    "comments[21]"
   ]
  },
  {
   "cell_type": "code",
   "execution_count": 90,
   "metadata": {},
   "outputs": [],
   "source": [
    "text_more(browser)"
   ]
  }
 ],
 "metadata": {
  "kernelspec": {
   "display_name": "Python 3",
   "language": "python",
   "name": "python3"
  },
  "language_info": {
   "codemirror_mode": {
    "name": "ipython",
    "version": 3
   },
   "file_extension": ".py",
   "mimetype": "text/x-python",
   "name": "python",
   "nbconvert_exporter": "python",
   "pygments_lexer": "ipython3",
   "version": "3.7.3"
  }
 },
 "nbformat": 4,
 "nbformat_minor": 4
}
