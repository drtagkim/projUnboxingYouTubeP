{
 "cells": [
  {
   "cell_type": "code",
   "execution_count": 1,
   "metadata": {},
   "outputs": [],
   "source": [
    "from FactoryFireFox import *\n",
    "from YouTubeComment import YouTubeComments,Comment"
   ]
  },
  {
   "cell_type": "code",
   "execution_count": 3,
   "metadata": {},
   "outputs": [],
   "source": [
    "youtube_url=\"https://www.youtube.com/watch?v=9kU6jb8XXpw\" #펭TV 남극 동물의 한국식 여름 휴가, 코멘트 많은\n",
    "youtube_url_no_comment=\"https://www.youtube.com/watch?v=S2qJAO03SsU\" #코멘트 없는\n",
    "youtube_url_few_comment=\"https://www.youtube.com/watch?v=-5WjyN53Zw4\" #코멘트 적은"
   ]
  },
  {
   "cell_type": "code",
   "execution_count": 4,
   "metadata": {
    "scrolled": true
   },
   "outputs": [
    {
     "name": "stdout",
     "output_type": "stream",
     "text": [
      "Comments are collecting now..\n",
      "..............................complete. Total=20\n",
      "Comments are collecting now..\n",
      "..............................complete. Total=60\n",
      "Comments are collecting now..\n",
      "..............................complete. Total=100\n",
      "Comments are collecting now..\n",
      "..............................complete. Total=140\n",
      "Comments are collecting now..\n",
      "..............................complete. Total=180\n",
      "Comments are collecting now..\n",
      "..............................complete. Total=220\n",
      "Comments are collecting now..\n",
      "..............................complete. Total=260\n",
      "Comments are collecting now..\n",
      "..............................complete. Total=300\n",
      "Comments are collecting now..\n",
      "..............................complete. Total=340\n",
      "Comments are collecting now..\n",
      "..............................complete. Total=380\n",
      "Comments are collecting now..\n",
      "..............................complete. Total=420\n",
      "Comments are collecting now..\n",
      "..............................complete. Total=460\n",
      "Comments are collecting now..\n",
      "..............................complete. Total=500\n",
      "Comments are collecting now..\n",
      "..............................complete. Total=540\n",
      "Comments are collecting now..\n",
      "..............................complete. Total=580\n",
      "Comments are collecting now..\n",
      "..............................complete. Total=620\n",
      "Comments are collecting now..\n",
      "..............................complete. Total=660\n",
      "Comments are collecting now..\n",
      "..............................complete. Total=700\n",
      "Comments are collecting now..\n",
      "..............................complete. Total=740\n",
      "Comments are collecting now..\n",
      "..............................complete. Total=780\n",
      "Comments are collecting now..\n",
      "..............................complete. Total=820\n",
      "Comments are collecting now..\n",
      "..............................complete. Total=860\n",
      "Comments are collecting now..\n",
      "..............................complete. Total=900\n",
      "Comments are collecting now..\n",
      "..............................complete. Total=940\n",
      "Comments are collecting now..\n",
      "..............................complete. Total=980\n",
      "Comments are collecting now..\n",
      "..............................complete. Total=1020\n",
      "Comments are collecting now..\n",
      "..............................complete. Total=1060\n",
      "Comments are collecting now..\n",
      "..............................complete. Total=1100\n",
      "Comments are collecting now..\n",
      "..............................complete. Total=1140\n",
      "Comments are collecting now..\n",
      "..............................complete. Total=1180\n",
      "Comments are collecting now..\n",
      "..............................complete. Total=1220\n",
      "Comments are collecting now..\n",
      "..............................complete. Total=1260\n",
      "Comments are collecting now..\n",
      "..............................complete. Total=1300\n",
      "Comments are collecting now..\n",
      "..............................complete. Total=1340\n",
      "Comments are collecting now..\n",
      "..............................complete. Total=1380\n",
      "Comments are collecting now..\n",
      "..............................complete. Total=1420\n",
      "Comments are collecting now..\n",
      "..............................complete. Total=1460\n",
      "Comments are collecting now..\n",
      "..............................complete. Total=1500\n",
      "Comments are collecting now..\n",
      "..............................complete. Total=1540\n",
      "Comments are collecting now..\n",
      "..............................complete. Nothing new.\n"
     ]
    }
   ],
   "source": [
    "b=YouTubeCommentBrowser(headless=True,image_allow=False)\n",
    "b.visit(youtube_url,remove_player=False,tb=30)\n",
    "loopnext=True\n",
    "while loopnext:\n",
    "    if check_scroll_presence(b) is False:\n",
    "        print(\"CEHCK!\")\n",
    "        break\n",
    "    b.scroll_down()\n",
    "    b.reply_more()\n",
    "    b.text_more()\n",
    "    loopnext=b.collect_comments(verbose=True)\n",
    "    b.remove_comments()\n",
    "    time.sleep(1) #don't know why, but...\n",
    "    b.scroll_up()"
   ]
  },
  {
   "cell_type": "code",
   "execution_count": 5,
   "metadata": {},
   "outputs": [],
   "source": [
    "cnt=0\n",
    "for i in b.comments:\n",
    "    cnt+=1\n",
    "    cnt+=len(i.comments_of_comment)"
   ]
  },
  {
   "cell_type": "code",
   "execution_count": 6,
   "metadata": {},
   "outputs": [
    {
     "data": {
      "text/plain": [
       "1683"
      ]
     },
     "execution_count": 6,
     "metadata": {},
     "output_type": "execute_result"
    }
   ],
   "source": [
    "cnt"
   ]
  },
  {
   "cell_type": "code",
   "execution_count": 7,
   "metadata": {
    "scrolled": true
   },
   "outputs": [],
   "source": [
    "b.quit()"
   ]
  },
  {
   "cell_type": "code",
   "execution_count": null,
   "metadata": {},
   "outputs": [],
   "source": [
    "len(b.comments)"
   ]
  }
 ],
 "metadata": {
  "kernelspec": {
   "display_name": "Python 3",
   "language": "python",
   "name": "python3"
  },
  "language_info": {
   "codemirror_mode": {
    "name": "ipython",
    "version": 3
   },
   "file_extension": ".py",
   "mimetype": "text/x-python",
   "name": "python",
   "nbconvert_exporter": "python",
   "pygments_lexer": "ipython3",
   "version": "3.7.1"
  }
 },
 "nbformat": 4,
 "nbformat_minor": 2
}
