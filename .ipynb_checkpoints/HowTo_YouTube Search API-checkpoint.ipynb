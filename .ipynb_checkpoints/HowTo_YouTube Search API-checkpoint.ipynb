{
 "cells": [
  {
   "cell_type": "markdown",
   "metadata": {},
   "source": [
    "# 들어가는 말\n",
    "## 배경\n",
    "* YouTube API Search 리스트를 받아오기 위해 작성\n",
    "* Webometric Analysis 사용하다가 짜증. 옵션도 적도 결과도 다 안나옴. 특히 국가 지정이 안됨\n",
    "* Rate limit가 걸려서 작업이 중단되면 돌이킬 방법이 없음 -> critical!\n",
    "* 동시에 여러 API Key를 사용하지 못함\n",
    "\n",
    "위와 같은 문제를 해결하기 위해 Google 공식 apiclient를 사용\n",
    "\n",
    "## 환경설정\n",
    "* 코드를 실행하려면 Anaconda Python 3.6 이상 필요\n",
    "* Excel이 설치된 Windows 시스템 (개발은 Windows 10에서 함)\n",
    "* google-api-python-client 필요\n",
    "* oauth2client 필요\n",
    "\n",
    "만약 설치가 되어 있지 않으면 아래와 같이 설치 수행(Jupyter Notebook 코드에서 바로 실행)\n",
    "\n",
    "```\n",
    "!pip install google-api-python-client\n",
    "```\n",
    "\n",
    "그리고\n",
    "\n",
    "```\n",
    "!pip install oauth2client\n",
    "```\n",
    "\n",
    "동일 경로에 **ytsearchapi.py**파일이 포함될 것\n",
    "\n",
    "## About\n",
    "* 김태경, 광운대학교 경영학부 부교수\n",
    "* 관리자: kimtk@office.kw.ac.kr (김태경)\n",
    "* 2020년 Project YouTube, 이건웅, 주희진, 김지영과 함께\n",
    "* 업데이트: 2020년 9월 24일"
   ]
  },
  {
   "cell_type": "markdown",
   "metadata": {},
   "source": [
    "# 사용법\n",
    "### 필요한 모듈을 불러온다."
   ]
  },
  {
   "cell_type": "code",
   "execution_count": 1,
   "metadata": {},
   "outputs": [],
   "source": [
    "from ytsearchapi import *\n",
    "from apiclient.errors import HttpError\n",
    "import pandas as pd"
   ]
  },
  {
   "cell_type": "markdown",
   "metadata": {},
   "source": [
    "### 접속키 객체를 생성한다."
   ]
  },
  {
   "cell_type": "code",
   "execution_count": 2,
   "metadata": {},
   "outputs": [],
   "source": [
    "youtubeTk=YouTubeKey(\"***************\") #****** 대신에 본인의 YouTube Data API 키를 입력할 것1\n",
    "youtubeHj=YouTubeKey(\"***************\") #****** 대신에 본인의 YouTube Data API 키를 입력할 것2"
   ]
  },
  {
   "cell_type": "markdown",
   "metadata": {},
   "source": [
    "### 검색 조건을 입력한다."
   ]
  },
  {
   "cell_type": "code",
   "execution_count": 3,
   "metadata": {},
   "outputs": [],
   "source": [
    "options = {\"q\":\"iPhone 11 unboxing\", #검색 키워드를 q에\n",
    "           \"max_results\":50, #50이 최대\n",
    "           \"order\":\"relevance\",\n",
    "           \"type\":Type.VIDEO,\n",
    "          \"publishedAfter\":getRFC3339(\"2019-01-01\"), #시작일(지정하지 않아도 됨)\n",
    "           \"publishedBefore\":getRFC3339(\"2020-01-01\"), #종료일(지정하지 않아도 됨)\n",
    "          \"regionCode\":RegionCode.US[0]} #지역, 지정하지 않아도 됨"
   ]
  },
  {
   "cell_type": "markdown",
   "metadata": {},
   "source": [
    "간단하게는,\n",
    "\n",
    "```\n",
    "options = {\"q\":\"iPhone 11 unboxing\",\n",
    "           \"max_results\":50,\n",
    "           \"order\":\"relevance\",\n",
    "           \"type\":Type.VIDEO}\n",
    "```"
   ]
  },
  {
   "cell_type": "markdown",
   "metadata": {},
   "source": [
    "### 검색을 수행해보자."
   ]
  },
  {
   "cell_type": "code",
   "execution_count": 4,
   "metadata": {},
   "outputs": [],
   "source": [
    "yts=YouTube_Search(youtubeHj) #검색기 생성하고 Key를 할당하자."
   ]
  },
  {
   "cell_type": "code",
   "execution_count": 5,
   "metadata": {},
   "outputs": [],
   "source": [
    "yts.update_options(options) #검색 조건 입력"
   ]
  },
  {
   "cell_type": "code",
   "execution_count": 6,
   "metadata": {},
   "outputs": [
    {
     "name": "stdout",
     "output_type": "stream",
     "text": [
      "0\n",
      "1\n"
     ]
    }
   ],
   "source": [
    "#100개까지 검색하기 range(2) 2*50=100\n",
    "for i in range(2):\n",
    "    try:\n",
    "        result=yts.query() #검색 실행\n",
    "        yts.next_page() #다음페이지 설정\n",
    "        print(i)\n",
    "    except HttpError:\n",
    "        print(\"Rate limit. Save it and see you tomorrow.\")"
   ]
  },
  {
   "cell_type": "markdown",
   "metadata": {},
   "source": [
    "### HttpError 토하고 실행 중단될 때"
   ]
  },
  {
   "cell_type": "code",
   "execution_count": 7,
   "metadata": {},
   "outputs": [],
   "source": [
    "yts.save_work(\"test.yt\") #yt object, 작업이 중단되면 일단 작업 내용을 저장한다."
   ]
  },
  {
   "cell_type": "markdown",
   "metadata": {},
   "source": [
    "API Key를 교체하고 작업을 계속할 수도 있다.\n",
    "```\n",
    "yts.setup(youtubeTk) #위에서 만들었던 또 다른 API Key로 교체한다.\n",
    "for i in range(2):\n",
    "    try:\n",
    "        result=yts.query()\n",
    "        yts.next_page()\n",
    "        print(i)\n",
    "    except HttpError:\n",
    "        pass\n",
    "```\n",
    "\n"
   ]
  },
  {
   "cell_type": "markdown",
   "metadata": {},
   "source": [
    "### 결과 출력하기 Excel과 TSV"
   ]
  },
  {
   "cell_type": "code",
   "execution_count": 12,
   "metadata": {},
   "outputs": [],
   "source": [
    "yts.export_data().to_excel('test.xlsx',index=False) #Excel로 저장하기\n",
    "yts.export_data().to_csv('test.tsv',sep='\\t',index=False) #Tab 구분으로 저장하기"
   ]
  },
  {
   "cell_type": "markdown",
   "metadata": {},
   "source": [
    "### 다음날 연결해서 실행할 때"
   ]
  },
  {
   "cell_type": "code",
   "execution_count": 13,
   "metadata": {},
   "outputs": [],
   "source": [
    "yts1=YouTube_Search(youtubeHj)"
   ]
  },
  {
   "cell_type": "code",
   "execution_count": 14,
   "metadata": {},
   "outputs": [],
   "source": [
    "yts1.load_work('test.yt')"
   ]
  },
  {
   "cell_type": "code",
   "execution_count": 19,
   "metadata": {},
   "outputs": [
    {
     "name": "stdout",
     "output_type": "stream",
     "text": [
      "0\n",
      "1\n"
     ]
    }
   ],
   "source": [
    "for i in range(2):\n",
    "    try:\n",
    "        result=yts1.query()\n",
    "        yts1.next_page()\n",
    "        print(i)\n",
    "    except HttpError:\n",
    "        print(\"Rate limit. Save it and see you tomorrow.\")"
   ]
  },
  {
   "cell_type": "markdown",
   "metadata": {},
   "source": [
    "어제 100개에 이어 100개가 추가되어 200개 검색 결과가 얻어진다."
   ]
  },
  {
   "cell_type": "code",
   "execution_count": 20,
   "metadata": {},
   "outputs": [
    {
     "data": {
      "text/plain": [
       "(200, 7)"
      ]
     },
     "execution_count": 20,
     "metadata": {},
     "output_type": "execute_result"
    }
   ],
   "source": [
    "yts1.export_data().shape"
   ]
  }
 ],
 "metadata": {
  "kernelspec": {
   "display_name": "Python 3",
   "language": "python",
   "name": "python3"
  },
  "language_info": {
   "codemirror_mode": {
    "name": "ipython",
    "version": 3
   },
   "file_extension": ".py",
   "mimetype": "text/x-python",
   "name": "python",
   "nbconvert_exporter": "python",
   "pygments_lexer": "ipython3",
   "version": "3.7.6"
  }
 },
 "nbformat": 4,
 "nbformat_minor": 4
}
