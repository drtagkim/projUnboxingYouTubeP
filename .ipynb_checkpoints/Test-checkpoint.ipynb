{
 "cells": [
  {
   "cell_type": "code",
   "execution_count": 3,
   "metadata": {},
   "outputs": [],
   "source": [
    "from FactoryFireFox import *"
   ]
  },
  {
   "cell_type": "code",
   "execution_count": 4,
   "metadata": {},
   "outputs": [],
   "source": [
    "youtube_url=\"https://www.youtube.com/watch?v=9kU6jb8XXpw\" #펭TV 남극 동물의 한국식 여름 휴가, 코멘트 많은\n",
    "youtube_url_no_comment=\"https://www.youtube.com/watch?v=S2qJAO03SsU\" #코멘트 없는\n",
    "youtube_url_few_comment=\"https://www.youtube.com/watch?v=-5WjyN53Zw4\" #코멘트 적은"
   ]
  },
  {
   "cell_type": "code",
   "execution_count": 9,
   "metadata": {},
   "outputs": [],
   "source": [
    "def test_run(url,headless=True):\n",
    "    b=YouTubeCommentBrowser(headless=headless,image_allow=False)\n",
    "    b.visit(url)\n",
    "    comments=b.collect_comments(verbose=True,remove_previous=False)\n",
    "    b.quit()\n",
    "    return comments"
   ]
  },
  {
   "cell_type": "code",
   "execution_count": 6,
   "metadata": {},
   "outputs": [
    {
     "name": "stdout",
     "output_type": "stream",
     "text": [
      "Start.\n",
      "..Scroll down\n",
      "..Call more replies, read more\n",
      "..Collect data\n",
      "..Remove previous comments in the browser\n",
      "..Scroll down\n",
      "..Call more replies, read more\n",
      "..Collect data\n",
      "..Remove previous comments in the browser\n",
      "..Scroll down\n",
      "..Call more replies, read more\n",
      "..Collect data\n",
      "..Remove previous comments in the browser\n",
      "..Scroll down\n",
      "Done.\n"
     ]
    }
   ],
   "source": [
    "comments=test_run(youtube_url_few_comment,True) #headless mode"
   ]
  },
  {
   "cell_type": "code",
   "execution_count": null,
   "metadata": {},
   "outputs": [],
   "source": [
    "len(comments)"
   ]
  },
  {
   "cell_type": "code",
   "execution_count": null,
   "metadata": {},
   "outputs": [
    {
     "name": "stdout",
     "output_type": "stream",
     "text": [
      "Start.\n",
      "..Scroll down\n",
      "..Call more replies, read more\n",
      "..Collect data\n",
      "..Scroll down\n",
      "..Call more replies, read more\n",
      "..Collect data\n",
      "..Scroll down\n",
      "..Call more replies, read more\n",
      "..Collect data\n",
      "..Scroll down\n",
      "..Call more replies, read more\n",
      "..Collect data\n",
      "..Scroll down\n",
      "..Call more replies, read more\n",
      "..Collect data\n",
      "..Scroll down\n",
      "..Call more replies, read more\n",
      "..Collect data\n",
      "..Scroll down\n",
      "..Call more replies, read more\n",
      "..Collect data\n",
      "..Scroll down\n",
      "..Call more replies, read more\n",
      "..Collect data\n",
      "..Scroll down\n",
      "..Call more replies, read more\n",
      "..Collect data\n",
      "..Scroll down\n"
     ]
    }
   ],
   "source": [
    "comments2=test_run(youtube_url,False) #for debugging"
   ]
  },
  {
   "cell_type": "code",
   "execution_count": null,
   "metadata": {},
   "outputs": [],
   "source": [
    "len(comments2)"
   ]
  }
 ],
 "metadata": {
  "kernelspec": {
   "display_name": "Python 3",
   "language": "python",
   "name": "python3"
  },
  "language_info": {
   "codemirror_mode": {
    "name": "ipython",
    "version": 3
   },
   "file_extension": ".py",
   "mimetype": "text/x-python",
   "name": "python",
   "nbconvert_exporter": "python",
   "pygments_lexer": "ipython3",
   "version": "3.7.3"
  }
 },
 "nbformat": 4,
 "nbformat_minor": 2
}
