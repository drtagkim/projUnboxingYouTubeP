{
 "cells": [
  {
   "cell_type": "markdown",
   "metadata": {},
   "source": [
    "selenium, bs4를 설치해 브라우저를 원격 조정하자.\n",
    "\n",
    "컴퓨터가 최소 8GB 이상, i5 이상의 CPU, Windows 환경을 추천한다.\n",
    "\n",
    "Update: 2020/08/11 - remove previous comments 부분 해결하기. click more 부분 처리(bug fix 필요)"
   ]
  },
  {
   "cell_type": "code",
   "execution_count": null,
   "metadata": {},
   "outputs": [],
   "source": [
    "!pip install selenium"
   ]
  },
  {
   "cell_type": "code",
   "execution_count": null,
   "metadata": {},
   "outputs": [],
   "source": [
    "!pip install bs4"
   ]
  },
  {
   "cell_type": "markdown",
   "metadata": {},
   "source": [
    "Firefox를 설치하자.\n",
    "\n",
    "다음으로 geckodriver를 설치해야 한다.\n",
    "\n",
    "https://github.com/mozilla/geckodriver/releases 에서 본인에게 맞는 OS를 골라 설치하자.\n",
    "\n",
    "압축을 풀고 C:/Windows 폴더에 geckodriver.exe를 복사한다. 이때 관리자 권한이 필요하다. 리눅스나 mac사용자는 /usr/bin 으로 geckodriver를 옮기면 된다.\n",
    "\n",
    "예를 들어, Linux 사용자는 터미널에서\n",
    "```\n",
    "    $ wget https://github.com/mozilla/geckodriver/releases/download/v0.27.0/geckodriver-v0.27.0-linux64.tar.gz\n",
    "    $ sudo sh -c 'tar -x geckodriver -zf geckodriver-v0.27.0-linux64.tar.gz -O > /usr/bin/geckodriver'\n",
    "    $ sudo chmod +x /usr/bin/geckodriver\n",
    "    $ rm geckodriver-v0.73.0-linux64.tar.gz\n",
    "```\n",
    "\n"
   ]
  },
  {
   "cell_type": "code",
   "execution_count": 42,
   "metadata": {},
   "outputs": [],
   "source": [
    "from selenium import webdriver #웹드라이브\n",
    "from selenium.common.exceptions import NoSuchElementException\n",
    "from selenium.webdriver.firefox.options import Options #Firefox options\n",
    "from selenium.webdriver.common.keys import Keys #key emulation\n",
    "from bs4 import BeautifulSoup as BS"
   ]
  },
  {
   "cell_type": "code",
   "execution_count": 2,
   "metadata": {},
   "outputs": [],
   "source": [
    "import time\n",
    "import random\n",
    "import hashlib"
   ]
  },
  {
   "cell_type": "code",
   "execution_count": 3,
   "metadata": {},
   "outputs": [],
   "source": [
    "'''\n",
    "Factory - Firefox\n",
    "'''\n",
    "def fire_fox_browser(headless=False,image_allow=True):\n",
    "    options=Options()\n",
    "    profile=webdriver.FirefoxProfile()\n",
    "    profile.set_preference('permissions.default.image',1 if image_allow else 2)\n",
    "    options.headless=headless\n",
    "    driver=webdriver.Firefox(firefox_profile=profile,options=options)\n",
    "    return driver"
   ]
  },
  {
   "cell_type": "code",
   "execution_count": 3,
   "metadata": {},
   "outputs": [],
   "source": [
    "youtube_url=\"https://www.youtube.com/watch?v=9kU6jb8XXpw\" #펭TV 남극 동물의 한국식 여름 휴가, 코멘트 많은\n",
    "youtube_url_no_comment=\"https://www.youtube.com/watch?v=S2qJAO03SsU\" #코멘트 없는\n",
    "youtube_url_few_comment=\"https://www.youtube.com/watch?v=-5WjyN53Zw4\" #코멘트 적은"
   ]
  },
  {
   "cell_type": "code",
   "execution_count": 4,
   "metadata": {},
   "outputs": [],
   "source": [
    "browser=fire_fox_browser(image_allow=True)"
   ]
  },
  {
   "cell_type": "code",
   "execution_count": 8,
   "metadata": {},
   "outputs": [],
   "source": [
    "browser.quit()"
   ]
  },
  {
   "cell_type": "code",
   "execution_count": 4,
   "metadata": {},
   "outputs": [],
   "source": [
    "from selenium import webdriver #webdriver\n",
    "from selenium.webdriver.firefox.options import Options #Firefox options\n",
    "from selenium.webdriver.common.keys import Keys #key emulation\n",
    "from bs4 import BeautifulSoup as BS\n",
    "# utility\n",
    "import time\n",
    "\n",
    "#' Firefox factor, inherited from webdriver.Firefox\n",
    "class FactoryFirefoxDriver(webdriver.Firefox):\n",
    "    def __init__(self,headless=False,image_allow=True):\n",
    "        options=Options()\n",
    "        profile=webdriver.FirefoxProfile()\n",
    "        profile.set_preference('permissions.default.image',1 if image_allow else 2)\n",
    "        options.headless=headless #headless mode on?\n",
    "        super().__init__(firefox_profile=profile,options=options)\n",
    "class YouTubeCommentBrowser(FactoryFirefoxDriver):\n",
    "    def __init__(self,headless=False,image_allow=True):\n",
    "        super().__init__(headless,image_allow)\n",
    "    def press_down(self,h,tb=1):\n",
    "        h.send_keys(Keys.END)\n",
    "        time.sleep(tb)\n",
    "    def scroll_down(self,tb=1):\n",
    "        initial_height = self.execute_script(\"return window.scrollY\")\n",
    "        html=self.find_element_by_tag_name('html')\n",
    "        self.press_down(html,tb)\n",
    "        time.sleep(tb)\n",
    "        #self.press_down(html)\n",
    "        last_height = self.execute_script(\"return window.scrollY\")\n",
    "        if initial_height == last_height:\n",
    "            return False\n",
    "        while True:\n",
    "            time.sleep(tb)\n",
    "            new_height=self.execute_script(\"return window.scrollY\")\n",
    "            if new_height==last_height:\n",
    "                break\n",
    "            last_height=new_height\n",
    "        return True\n",
    "    def remove_element_by_id(self,s,tb=0.5):\n",
    "        script=\"document.getElementById('{}').remove();\".format(s)\n",
    "        self.execute_script(script)\n",
    "        time.sleep(tb)\n",
    "    def remove_comments(self,tb=0.5):\n",
    "        script='''\n",
    "        document.querySelectorAll(\"#replies\").forEach(function(item,index){item.remove();});\n",
    "        var reviews=document.querySelectorAll('#body');\n",
    "        reviews.forEach(function(item,index){\n",
    "        if(index<(reviews.length-1)) item.remove();\n",
    "        })\n",
    "        '''\n",
    "        self.execute_script(script)\n",
    "        time.sleep(tb)\n",
    "    def reply_more(self,tb=1):\n",
    "        code_view='//yt-formatted-string[starts-with(.,\"View\") and contains(.,\"reply\")]'\n",
    "        code_show_more_replies='//yt-formatted-string[starts-with(.,\"View\") and contains(.,\"replies\")]'\n",
    "        eles=self.find_elements_by_xpath(code_view)\n",
    "        for ele in eles:\n",
    "            try:\n",
    "                if ele.text is not \"\":\n",
    "                    ele.click()\n",
    "                    time.sleep(0.1)\n",
    "            except:\n",
    "                pass\n",
    "        eles=self.find_elements_by_xpath(code_show_more_replies)\n",
    "        for ele in eles:\n",
    "            try:\n",
    "                if ele.text is not \"\":\n",
    "                    ele.click()\n",
    "                    time.sleep(0.1)\n",
    "            except:\n",
    "                pass\n",
    "        time.sleep(tb)\n",
    "    def text_more(self,tb=1):\n",
    "        code_read_more='//span[starts-with(.,\"Read more\")]'\n",
    "        eles=self.find_elements_by_xpath(code_read_more)\n",
    "        for ele in eles:\n",
    "            try:\n",
    "                if ele.text is not \"\":\n",
    "                    ele.click()\n",
    "                    time.sleep(0.1)\n",
    "            except:\n",
    "                pass\n",
    "        time.sleep(tb)\n",
    "    def visit(self,url,remove_ad=True,remove_player=False,tb=5):\n",
    "        self.get(url)\n",
    "        time.sleep(tb)\n",
    "        if remove_ad:\n",
    "            self.remove_element_by_id('related')\n",
    "            time.sleep(0.1)\n",
    "        if remove_player:\n",
    "            self.remove_element_by_id('movie_player')\n",
    "            time.sleep(0.1)\n",
    "    def get_data(self):\n",
    "        page=self.page_source\n",
    "        soup=BS(page,'html.parser')\n",
    "        return [ele.text for ele in soup.select('#content-text')]\n",
    "    def collect_comments(self,verbose=False,remove_previous=True):\n",
    "        total_comment=[] # //TODO - bs4\n",
    "        if verbose:\n",
    "            print(\"Start.\")\n",
    "        while True:\n",
    "            if verbose:\n",
    "                print(\"..Scroll down\")\n",
    "            if self.scroll_down(3) is False:\n",
    "                break\n",
    "            if verbose:\n",
    "                print(\"..Call more replies, read more\")\n",
    "            for i in range(3):\n",
    "                self.reply_more()\n",
    "            self.text_more()\n",
    "            if verbose:\n",
    "                print(\"..Collect data\")\n",
    "                \n",
    "            if remove_previous:\n",
    "                if verbose:\n",
    "                    print(\"..Remove previous comments in the browser\")\n",
    "                total_comment+=self.get_data()\n",
    "                self.remove_comments()\n",
    "        if remove_previous is False:\n",
    "            total_comment=self.get_data()\n",
    "        if verbose:\n",
    "            print(\"Done.\")\n",
    "        return total_comment\n"
   ]
  },
  {
   "cell_type": "code",
   "execution_count": 5,
   "metadata": {},
   "outputs": [],
   "source": [
    "b=YouTubeCommentBrowser(headless=False,image_allow=True)"
   ]
  },
  {
   "cell_type": "code",
   "execution_count": 6,
   "metadata": {},
   "outputs": [],
   "source": [
    "b.visit(youtube_url_few_comment)"
   ]
  },
  {
   "cell_type": "code",
   "execution_count": 7,
   "metadata": {},
   "outputs": [
    {
     "data": {
      "text/plain": [
       "True"
      ]
     },
     "execution_count": 7,
     "metadata": {},
     "output_type": "execute_result"
    }
   ],
   "source": [
    "b.scroll_down()"
   ]
  },
  {
   "cell_type": "code",
   "execution_count": 55,
   "metadata": {},
   "outputs": [],
   "source": [
    "b.quit()"
   ]
  },
  {
   "cell_type": "code",
   "execution_count": 61,
   "metadata": {},
   "outputs": [],
   "source": [
    "b.text_more()"
   ]
  },
  {
   "cell_type": "code",
   "execution_count": 22,
   "metadata": {},
   "outputs": [],
   "source": [
    "b.reply_more()"
   ]
  },
  {
   "cell_type": "code",
   "execution_count": null,
   "metadata": {},
   "outputs": [],
   "source": []
  },
  {
   "cell_type": "markdown",
   "metadata": {},
   "source": [
    "```\n",
    "#content-text\n",
    "```"
   ]
  },
  {
   "cell_type": "code",
   "execution_count": 12,
   "metadata": {},
   "outputs": [],
   "source": [
    "eles=b.find_elements_by_id(\"comment\")"
   ]
  },
  {
   "cell_type": "code",
   "execution_count": 14,
   "metadata": {},
   "outputs": [
    {
     "ename": "NoSuchElementException",
     "evalue": "Message: Unable to locate element: [id=\"dfddf\"]\n",
     "output_type": "error",
     "traceback": [
      "\u001b[1;31m---------------------------------------------------------------------------\u001b[0m",
      "\u001b[1;31mNoSuchElementException\u001b[0m                    Traceback (most recent call last)",
      "\u001b[1;32m<ipython-input-14-7e009ab8ee2d>\u001b[0m in \u001b[0;36m<module>\u001b[1;34m\u001b[0m\n\u001b[1;32m----> 1\u001b[1;33m \u001b[0meles\u001b[0m\u001b[1;33m[\u001b[0m\u001b[1;36m0\u001b[0m\u001b[1;33m]\u001b[0m\u001b[1;33m.\u001b[0m\u001b[0mfind_element_by_id\u001b[0m\u001b[1;33m(\u001b[0m\u001b[1;34m\"dfddf\"\u001b[0m\u001b[1;33m)\u001b[0m\u001b[1;33m\u001b[0m\u001b[1;33m\u001b[0m\u001b[0m\n\u001b[0m",
      "\u001b[1;32m~\\anaconda3\\envs\\Tensorflow\\lib\\site-packages\\selenium\\webdriver\\remote\\webelement.py\u001b[0m in \u001b[0;36mfind_element_by_id\u001b[1;34m(self, id_)\u001b[0m\n\u001b[0;32m    174\u001b[0m             \u001b[0mfoo_element\u001b[0m \u001b[1;33m=\u001b[0m \u001b[0melement\u001b[0m\u001b[1;33m.\u001b[0m\u001b[0mfind_element_by_id\u001b[0m\u001b[1;33m(\u001b[0m\u001b[1;34m'foo'\u001b[0m\u001b[1;33m)\u001b[0m\u001b[1;33m\u001b[0m\u001b[1;33m\u001b[0m\u001b[0m\n\u001b[0;32m    175\u001b[0m         \"\"\"\n\u001b[1;32m--> 176\u001b[1;33m         \u001b[1;32mreturn\u001b[0m \u001b[0mself\u001b[0m\u001b[1;33m.\u001b[0m\u001b[0mfind_element\u001b[0m\u001b[1;33m(\u001b[0m\u001b[0mby\u001b[0m\u001b[1;33m=\u001b[0m\u001b[0mBy\u001b[0m\u001b[1;33m.\u001b[0m\u001b[0mID\u001b[0m\u001b[1;33m,\u001b[0m \u001b[0mvalue\u001b[0m\u001b[1;33m=\u001b[0m\u001b[0mid_\u001b[0m\u001b[1;33m)\u001b[0m\u001b[1;33m\u001b[0m\u001b[1;33m\u001b[0m\u001b[0m\n\u001b[0m\u001b[0;32m    177\u001b[0m \u001b[1;33m\u001b[0m\u001b[0m\n\u001b[0;32m    178\u001b[0m     \u001b[1;32mdef\u001b[0m \u001b[0mfind_elements_by_id\u001b[0m\u001b[1;33m(\u001b[0m\u001b[0mself\u001b[0m\u001b[1;33m,\u001b[0m \u001b[0mid_\u001b[0m\u001b[1;33m)\u001b[0m\u001b[1;33m:\u001b[0m\u001b[1;33m\u001b[0m\u001b[1;33m\u001b[0m\u001b[0m\n",
      "\u001b[1;32m~\\anaconda3\\envs\\Tensorflow\\lib\\site-packages\\selenium\\webdriver\\remote\\webelement.py\u001b[0m in \u001b[0;36mfind_element\u001b[1;34m(self, by, value)\u001b[0m\n\u001b[0;32m    657\u001b[0m \u001b[1;33m\u001b[0m\u001b[0m\n\u001b[0;32m    658\u001b[0m         return self._execute(Command.FIND_CHILD_ELEMENT,\n\u001b[1;32m--> 659\u001b[1;33m                              {\"using\": by, \"value\": value})['value']\n\u001b[0m\u001b[0;32m    660\u001b[0m \u001b[1;33m\u001b[0m\u001b[0m\n\u001b[0;32m    661\u001b[0m     \u001b[1;32mdef\u001b[0m \u001b[0mfind_elements\u001b[0m\u001b[1;33m(\u001b[0m\u001b[0mself\u001b[0m\u001b[1;33m,\u001b[0m \u001b[0mby\u001b[0m\u001b[1;33m=\u001b[0m\u001b[0mBy\u001b[0m\u001b[1;33m.\u001b[0m\u001b[0mID\u001b[0m\u001b[1;33m,\u001b[0m \u001b[0mvalue\u001b[0m\u001b[1;33m=\u001b[0m\u001b[1;32mNone\u001b[0m\u001b[1;33m)\u001b[0m\u001b[1;33m:\u001b[0m\u001b[1;33m\u001b[0m\u001b[1;33m\u001b[0m\u001b[0m\n",
      "\u001b[1;32m~\\anaconda3\\envs\\Tensorflow\\lib\\site-packages\\selenium\\webdriver\\remote\\webelement.py\u001b[0m in \u001b[0;36m_execute\u001b[1;34m(self, command, params)\u001b[0m\n\u001b[0;32m    631\u001b[0m             \u001b[0mparams\u001b[0m \u001b[1;33m=\u001b[0m \u001b[1;33m{\u001b[0m\u001b[1;33m}\u001b[0m\u001b[1;33m\u001b[0m\u001b[1;33m\u001b[0m\u001b[0m\n\u001b[0;32m    632\u001b[0m         \u001b[0mparams\u001b[0m\u001b[1;33m[\u001b[0m\u001b[1;34m'id'\u001b[0m\u001b[1;33m]\u001b[0m \u001b[1;33m=\u001b[0m \u001b[0mself\u001b[0m\u001b[1;33m.\u001b[0m\u001b[0m_id\u001b[0m\u001b[1;33m\u001b[0m\u001b[1;33m\u001b[0m\u001b[0m\n\u001b[1;32m--> 633\u001b[1;33m         \u001b[1;32mreturn\u001b[0m \u001b[0mself\u001b[0m\u001b[1;33m.\u001b[0m\u001b[0m_parent\u001b[0m\u001b[1;33m.\u001b[0m\u001b[0mexecute\u001b[0m\u001b[1;33m(\u001b[0m\u001b[0mcommand\u001b[0m\u001b[1;33m,\u001b[0m \u001b[0mparams\u001b[0m\u001b[1;33m)\u001b[0m\u001b[1;33m\u001b[0m\u001b[1;33m\u001b[0m\u001b[0m\n\u001b[0m\u001b[0;32m    634\u001b[0m \u001b[1;33m\u001b[0m\u001b[0m\n\u001b[0;32m    635\u001b[0m     \u001b[1;32mdef\u001b[0m \u001b[0mfind_element\u001b[0m\u001b[1;33m(\u001b[0m\u001b[0mself\u001b[0m\u001b[1;33m,\u001b[0m \u001b[0mby\u001b[0m\u001b[1;33m=\u001b[0m\u001b[0mBy\u001b[0m\u001b[1;33m.\u001b[0m\u001b[0mID\u001b[0m\u001b[1;33m,\u001b[0m \u001b[0mvalue\u001b[0m\u001b[1;33m=\u001b[0m\u001b[1;32mNone\u001b[0m\u001b[1;33m)\u001b[0m\u001b[1;33m:\u001b[0m\u001b[1;33m\u001b[0m\u001b[1;33m\u001b[0m\u001b[0m\n",
      "\u001b[1;32m~\\anaconda3\\envs\\Tensorflow\\lib\\site-packages\\selenium\\webdriver\\remote\\webdriver.py\u001b[0m in \u001b[0;36mexecute\u001b[1;34m(self, driver_command, params)\u001b[0m\n\u001b[0;32m    319\u001b[0m         \u001b[0mresponse\u001b[0m \u001b[1;33m=\u001b[0m \u001b[0mself\u001b[0m\u001b[1;33m.\u001b[0m\u001b[0mcommand_executor\u001b[0m\u001b[1;33m.\u001b[0m\u001b[0mexecute\u001b[0m\u001b[1;33m(\u001b[0m\u001b[0mdriver_command\u001b[0m\u001b[1;33m,\u001b[0m \u001b[0mparams\u001b[0m\u001b[1;33m)\u001b[0m\u001b[1;33m\u001b[0m\u001b[1;33m\u001b[0m\u001b[0m\n\u001b[0;32m    320\u001b[0m         \u001b[1;32mif\u001b[0m \u001b[0mresponse\u001b[0m\u001b[1;33m:\u001b[0m\u001b[1;33m\u001b[0m\u001b[1;33m\u001b[0m\u001b[0m\n\u001b[1;32m--> 321\u001b[1;33m             \u001b[0mself\u001b[0m\u001b[1;33m.\u001b[0m\u001b[0merror_handler\u001b[0m\u001b[1;33m.\u001b[0m\u001b[0mcheck_response\u001b[0m\u001b[1;33m(\u001b[0m\u001b[0mresponse\u001b[0m\u001b[1;33m)\u001b[0m\u001b[1;33m\u001b[0m\u001b[1;33m\u001b[0m\u001b[0m\n\u001b[0m\u001b[0;32m    322\u001b[0m             response['value'] = self._unwrap_value(\n\u001b[0;32m    323\u001b[0m                 response.get('value', None))\n",
      "\u001b[1;32m~\\anaconda3\\envs\\Tensorflow\\lib\\site-packages\\selenium\\webdriver\\remote\\errorhandler.py\u001b[0m in \u001b[0;36mcheck_response\u001b[1;34m(self, response)\u001b[0m\n\u001b[0;32m    240\u001b[0m                 \u001b[0malert_text\u001b[0m \u001b[1;33m=\u001b[0m \u001b[0mvalue\u001b[0m\u001b[1;33m[\u001b[0m\u001b[1;34m'alert'\u001b[0m\u001b[1;33m]\u001b[0m\u001b[1;33m.\u001b[0m\u001b[0mget\u001b[0m\u001b[1;33m(\u001b[0m\u001b[1;34m'text'\u001b[0m\u001b[1;33m)\u001b[0m\u001b[1;33m\u001b[0m\u001b[1;33m\u001b[0m\u001b[0m\n\u001b[0;32m    241\u001b[0m             \u001b[1;32mraise\u001b[0m \u001b[0mexception_class\u001b[0m\u001b[1;33m(\u001b[0m\u001b[0mmessage\u001b[0m\u001b[1;33m,\u001b[0m \u001b[0mscreen\u001b[0m\u001b[1;33m,\u001b[0m \u001b[0mstacktrace\u001b[0m\u001b[1;33m,\u001b[0m \u001b[0malert_text\u001b[0m\u001b[1;33m)\u001b[0m\u001b[1;33m\u001b[0m\u001b[1;33m\u001b[0m\u001b[0m\n\u001b[1;32m--> 242\u001b[1;33m         \u001b[1;32mraise\u001b[0m \u001b[0mexception_class\u001b[0m\u001b[1;33m(\u001b[0m\u001b[0mmessage\u001b[0m\u001b[1;33m,\u001b[0m \u001b[0mscreen\u001b[0m\u001b[1;33m,\u001b[0m \u001b[0mstacktrace\u001b[0m\u001b[1;33m)\u001b[0m\u001b[1;33m\u001b[0m\u001b[1;33m\u001b[0m\u001b[0m\n\u001b[0m\u001b[0;32m    243\u001b[0m \u001b[1;33m\u001b[0m\u001b[0m\n\u001b[0;32m    244\u001b[0m     \u001b[1;32mdef\u001b[0m \u001b[0m_value_or_default\u001b[0m\u001b[1;33m(\u001b[0m\u001b[0mself\u001b[0m\u001b[1;33m,\u001b[0m \u001b[0mobj\u001b[0m\u001b[1;33m,\u001b[0m \u001b[0mkey\u001b[0m\u001b[1;33m,\u001b[0m \u001b[0mdefault\u001b[0m\u001b[1;33m)\u001b[0m\u001b[1;33m:\u001b[0m\u001b[1;33m\u001b[0m\u001b[1;33m\u001b[0m\u001b[0m\n",
      "\u001b[1;31mNoSuchElementException\u001b[0m: Message: Unable to locate element: [id=\"dfddf\"]\n"
     ]
    }
   ],
   "source": [
    "eles[0].find_element_by_id(\"dfddf\")"
   ]
  },
  {
   "cell_type": "code",
   "execution_count": 74,
   "metadata": {},
   "outputs": [
    {
     "data": {
      "text/plain": [
       "'지점토\\n8 months ago\\n핑퐁이라는 광운훌리 댓글마다보이네 ㅋㅋㅋㅋㅋㅋㅋㅋㅌㅌ니가 그러는게 학교이미지 까내리는거야^^\\n41\\nREPLY'"
      ]
     },
     "execution_count": 74,
     "metadata": {},
     "output_type": "execute_result"
    }
   ],
   "source": [
    "eles[2].text"
   ]
  },
  {
   "cell_type": "code",
   "execution_count": 23,
   "metadata": {},
   "outputs": [],
   "source": [
    "ele=eles[3]"
   ]
  },
  {
   "cell_type": "code",
   "execution_count": 24,
   "metadata": {},
   "outputs": [
    {
     "data": {
      "text/plain": [
       "'지점토'"
      ]
     },
     "execution_count": 24,
     "metadata": {},
     "output_type": "execute_result"
    }
   ],
   "source": [
    "ele.find_element_by_id('author-text').text"
   ]
  },
  {
   "cell_type": "code",
   "execution_count": 25,
   "metadata": {},
   "outputs": [
    {
     "data": {
      "text/plain": [
       "'핑퐁이라는 광운훌리 댓글마다보이네 ㅋㅋㅋㅋㅋㅋㅋㅋㅌㅌ니가 그러는게 학교이미지 까내리는거야^^'"
      ]
     },
     "execution_count": 25,
     "metadata": {},
     "output_type": "execute_result"
    }
   ],
   "source": [
    "ele.find_element_by_id('content-text').text"
   ]
  },
  {
   "cell_type": "code",
   "execution_count": 26,
   "metadata": {},
   "outputs": [
    {
     "data": {
      "text/plain": [
       "'97035418-22e2-49fe-af41-42fc0bdf61e4'"
      ]
     },
     "execution_count": 26,
     "metadata": {},
     "output_type": "execute_result"
    }
   ],
   "source": [
    "ele.id"
   ]
  },
  {
   "cell_type": "code",
   "execution_count": 27,
   "metadata": {},
   "outputs": [],
   "source": [
    "replies=ele.find_element_by_xpath(\"following-sibling::*[1]\")"
   ]
  },
  {
   "cell_type": "code",
   "execution_count": 28,
   "metadata": {
    "scrolled": true
   },
   "outputs": [
    {
     "data": {
      "text/plain": [
       "'Hide 13 replies\\n시이잉\\n8 months ago\\n단국훌리도 만만치 않긔윤ㅋㅋㅋㅋ\\n5\\nREPLY\\n지점토\\n8 months ago\\n시이잉 난 충남훌리인데?\\nREPLY\\n시이잉\\n8 months ago\\n@지점토 그건 별로 안궁금하궁ㅎㅎ!\\nREPLY\\n지점토\\n8 months ago\\n시이잉 넌 팡운이냐?ㅋㅋㅋㅋ딱 그정도네\\n6\\nREPLY\\n시이잉\\n8 months ago\\n왜그랭 도스트야 친하게 지내장~\\nREPLY\\n남궁찬\\n6 months ago\\n@지점토 웩\\nREPLY\\n지점토\\n6 months ago\\n남궁찬 충경외시다 외워라\\nREPLY\\nSAM SUNG\\n5 months ago\\n@지점토 ㅋㅋㅋㅋㅋㅋㅋㅋㅋㅋ ㄹㅇ 훌리값하노 ㅇㅂ준다ㅇㄱ\\nREPLY\\n지점토\\n5 months ago\\n이도류 고맙다 ㅇㄱㅇ\\nREPLY\\n지웅\\n2 months ago\\n충남대는 낄때 끼자... 지방대 특성화고애들이 다니는 학교를 무슨..  평백도 80이면 가는학교구만ㅋㅋ\\nREPLY\\nShow more replies'"
      ]
     },
     "execution_count": 28,
     "metadata": {},
     "output_type": "execute_result"
    }
   ],
   "source": [
    "replies.text"
   ]
  },
  {
   "cell_type": "code",
   "execution_count": 31,
   "metadata": {},
   "outputs": [],
   "source": [
    "eles=replies.find_elements_by_tag_name('ytd-comment-renderer')"
   ]
  },
  {
   "cell_type": "code",
   "execution_count": 34,
   "metadata": {},
   "outputs": [
    {
     "data": {
      "text/plain": [
       "'단국훌리도 만만치 않긔윤ㅋㅋㅋㅋ'"
      ]
     },
     "execution_count": 34,
     "metadata": {},
     "output_type": "execute_result"
    }
   ],
   "source": [
    "eles[0].find_element_by_id('content-text').text"
   ]
  },
  {
   "cell_type": "code",
   "execution_count": null,
   "metadata": {},
   "outputs": [],
   "source": []
  },
  {
   "cell_type": "code",
   "execution_count": null,
   "metadata": {},
   "outputs": [],
   "source": []
  },
  {
   "cell_type": "code",
   "execution_count": null,
   "metadata": {},
   "outputs": [],
   "source": []
  },
  {
   "cell_type": "code",
   "execution_count": null,
   "metadata": {},
   "outputs": [],
   "source": []
  },
  {
   "cell_type": "code",
   "execution_count": 118,
   "metadata": {},
   "outputs": [],
   "source": [
    "class Comment:\n",
    "    AUTHOR='author-text'\n",
    "    CONTENT='content-text'\n",
    "    SREPLIES='following-sibling::*[1]'\n",
    "    REPLIES='ytd-comment-renderer'\n",
    "    def __init__(self,obj,r):\n",
    "        self.r=r\n",
    "        self.id=''\n",
    "        self.obj=obj\n",
    "        self.author=''\n",
    "        self.content=''\n",
    "        self.comments_of_comment=[]\n",
    "        self.get_uid()\n",
    "        self.process_author(r)\n",
    "        self.process_content(r)\n",
    "        self.process_replies(r)\n",
    "        self.parent_id=obj.id\n",
    "    def get_uid(self):\n",
    "        selfid=str(id(self))+\"/\"\n",
    "        rint=str(random.randint(0,100))+'/'\n",
    "        idcode=selfid+rint\n",
    "        self.id=hashlib.md5(idcode.encode()).hexdigest()\n",
    "    def process_author(self,r):\n",
    "        try:\n",
    "            self.author=r.find_element_by_id(Comment.AUTHOR).text\n",
    "        except NoSuchElementException:\n",
    "            pass\n",
    "    def process_content(self,r):\n",
    "        try:\n",
    "            self.content=r.find_element_by_id(Comment.CONTENT).text\n",
    "        except NoSuchElementException:\n",
    "            pass\n",
    "    def process_replies(self,r):\n",
    "        try:\n",
    "            replies=r.find_element_by_xpath(Comment.SREPLIES)\n",
    "            rs=replies.find_elements_by_tag_name(Comment.REPLIES)\n",
    "            if len(rs) > 0: #if any\n",
    "                for rss in rs:\n",
    "                    self.comments_of_comment.append(Comment(self,rss))\n",
    "        except NoSuchElementException:\n",
    "            pass\n",
    "class Comments:\n",
    "    def __init__(self):\n",
    "        self.id=''\n",
    "        self.parent=None\n",
    "        self.comments=[]\n",
    "    def analyze_data(self,browser):\n",
    "        pass\n",
    "    def get_uid(self,browser):\n",
    "        pass\n",
    "class YouTubeComments(Comments):\n",
    "    COMMENT='comment'\n",
    "    def __init__(self):\n",
    "        super().__init__()\n",
    "    def get_uid(self,browser):\n",
    "        url=browser.current_url+\"/\"\n",
    "        selfid=str(id(self))+\"/\"\n",
    "        rint=str(random.randint(0,100))+'/'\n",
    "        idcode=url+selfid+rint\n",
    "        self.id=hashlib.md5(idcode.encode()).hexdigest()\n",
    "    def analyze_data(self,browser):\n",
    "        self.get_uid(browser) #generate id\n",
    "        replies=browser.find_elements_by_id(YouTubeComments.COMMENT)\n",
    "        if len(replies) <=0: #nothing found\n",
    "            return False\n",
    "        #processing...\n",
    "        for r in replies:\n",
    "            comment=Comment(self,r)\n",
    "            if comment.author is not '':\n",
    "                self.comments.append(comment)      "
   ]
  },
  {
   "cell_type": "code",
   "execution_count": 119,
   "metadata": {},
   "outputs": [],
   "source": [
    "comments=YouTubeComments()"
   ]
  },
  {
   "cell_type": "code",
   "execution_count": 120,
   "metadata": {},
   "outputs": [],
   "source": [
    "comments.analyze_data(b)"
   ]
  },
  {
   "cell_type": "code",
   "execution_count": 121,
   "metadata": {},
   "outputs": [
    {
     "data": {
      "text/plain": [
       "'강민혁'"
      ]
     },
     "execution_count": 121,
     "metadata": {},
     "output_type": "execute_result"
    }
   ],
   "source": [
    "comments.comments[0].author"
   ]
  },
  {
   "cell_type": "code",
   "execution_count": 122,
   "metadata": {},
   "outputs": [
    {
     "data": {
      "text/plain": [
       "\"가장 걸러들어야 할 것 : 멋대로 기준 정해놓고 '당연히 여기 대학 가야한다' 고 하는 것. 보통 근거도 없이 말하는 경우가 많음.\""
      ]
     },
     "execution_count": 122,
     "metadata": {},
     "output_type": "execute_result"
    }
   ],
   "source": [
    "comments.comments[0].content"
   ]
  },
  {
   "cell_type": "code",
   "execution_count": 123,
   "metadata": {},
   "outputs": [
    {
     "data": {
      "text/plain": [
       "'13be67c461f9f6f46161f3bb3d5e0e95'"
      ]
     },
     "execution_count": 123,
     "metadata": {},
     "output_type": "execute_result"
    }
   ],
   "source": [
    "comments.comments[0].id"
   ]
  },
  {
   "cell_type": "code",
   "execution_count": 126,
   "metadata": {},
   "outputs": [
    {
     "data": {
      "text/plain": [
       "\"Ireland's troy parrot\""
      ]
     },
     "execution_count": 126,
     "metadata": {},
     "output_type": "execute_result"
    }
   ],
   "source": [
    "comments.comments[0].comments_of_comment[0].author"
   ]
  },
  {
   "cell_type": "code",
   "execution_count": 127,
   "metadata": {},
   "outputs": [
    {
     "data": {
      "text/plain": [
       "'ㅆㅇㅈ'"
      ]
     },
     "execution_count": 127,
     "metadata": {},
     "output_type": "execute_result"
    }
   ],
   "source": [
    "comments.comments[0].comments_of_comment[0].content"
   ]
  },
  {
   "cell_type": "code",
   "execution_count": 128,
   "metadata": {},
   "outputs": [
    {
     "data": {
      "text/plain": [
       "'c29440cfed2e5df0b9468c5dbf1e012d'"
      ]
     },
     "execution_count": 128,
     "metadata": {},
     "output_type": "execute_result"
    }
   ],
   "source": [
    "comments.comments[0].comments_of_comment[0].id"
   ]
  },
  {
   "cell_type": "code",
   "execution_count": 129,
   "metadata": {},
   "outputs": [
    {
     "data": {
      "text/plain": [
       "'13be67c461f9f6f46161f3bb3d5e0e95'"
      ]
     },
     "execution_count": 129,
     "metadata": {},
     "output_type": "execute_result"
    }
   ],
   "source": [
    "comments.comments[0].comments_of_comment[0].parent_id"
   ]
  },
  {
   "cell_type": "code",
   "execution_count": 130,
   "metadata": {},
   "outputs": [],
   "source": [
    "b.quit()"
   ]
  }
 ],
 "metadata": {
  "kernelspec": {
   "display_name": "Python 3",
   "language": "python",
   "name": "python3"
  },
  "language_info": {
   "codemirror_mode": {
    "name": "ipython",
    "version": 3
   },
   "file_extension": ".py",
   "mimetype": "text/x-python",
   "name": "python",
   "nbconvert_exporter": "python",
   "pygments_lexer": "ipython3",
   "version": "3.7.1"
  }
 },
 "nbformat": 4,
 "nbformat_minor": 4
}
