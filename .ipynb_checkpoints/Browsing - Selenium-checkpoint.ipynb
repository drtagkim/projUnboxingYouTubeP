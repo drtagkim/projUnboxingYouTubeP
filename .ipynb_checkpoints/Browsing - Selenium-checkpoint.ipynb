{
 "cells": [
  {
   "cell_type": "markdown",
   "metadata": {},
   "source": [
    "selenium, bs4를 설치해 브라우저를 원격 조정하자.\n",
    "\n",
    "컴퓨터가 최소 8GB 이상, i5 이상의 CPU, Windows 환경을 추천한다.\n",
    "\n",
    "Update: 2020/08/11 - remove previous comments 부분 해결하기. click more 부분 처리(bug fix 필요)"
   ]
  },
  {
   "cell_type": "code",
   "execution_count": null,
   "metadata": {},
   "outputs": [],
   "source": [
    "!pip install selenium"
   ]
  },
  {
   "cell_type": "code",
   "execution_count": null,
   "metadata": {},
   "outputs": [],
   "source": [
    "!pip install bs4"
   ]
  },
  {
   "cell_type": "markdown",
   "metadata": {},
   "source": [
    "Firefox를 설치하자.\n",
    "\n",
    "다음으로 geckodriver를 설치해야 한다.\n",
    "\n",
    "https://github.com/mozilla/geckodriver/releases 에서 본인에게 맞는 OS를 골라 설치하자.\n",
    "\n",
    "압축을 풀고 C:/Windows 폴더에 geckodriver.exe를 복사한다. 이때 관리자 권한이 필요하다. 리눅스나 mac사용자는 /usr/bin 으로 geckodriver를 옮기면 된다.\n",
    "\n",
    "예를 들어, Linux 사용자는 터미널에서\n",
    "```\n",
    "    $ wget https://github.com/mozilla/geckodriver/releases/download/v0.27.0/geckodriver-v0.27.0-linux64.tar.gz\n",
    "    $ sudo sh -c 'tar -x geckodriver -zf geckodriver-v0.27.0-linux64.tar.gz -O > /usr/bin/geckodriver'\n",
    "    $ sudo chmod +x /usr/bin/geckodriver\n",
    "    $ rm geckodriver-v0.73.0-linux64.tar.gz\n",
    "```\n",
    "\n"
   ]
  },
  {
   "cell_type": "code",
   "execution_count": 1,
   "metadata": {},
   "outputs": [],
   "source": [
    "from selenium import webdriver #웹드라이브\n",
    "from selenium.webdriver.firefox.options import Options #Firefox options\n",
    "from selenium.webdriver.common.keys import Keys #key emulation\n",
    "from bs4 import BeautifulSoup as BS"
   ]
  },
  {
   "cell_type": "code",
   "execution_count": 2,
   "metadata": {},
   "outputs": [],
   "source": [
    "import time"
   ]
  },
  {
   "cell_type": "code",
   "execution_count": 3,
   "metadata": {},
   "outputs": [],
   "source": [
    "'''\n",
    "Factory - Firefox\n",
    "'''\n",
    "def fire_fox_browser(headless=False,image_allow=True):\n",
    "    options=Options()\n",
    "    profile=webdriver.FirefoxProfile()\n",
    "    profile.set_preference('permissions.default.image',1 if image_allow else 2)\n",
    "    options.headless=headless\n",
    "    driver=webdriver.Firefox(firefox_profile=profile,options=options)\n",
    "    return driver"
   ]
  },
  {
   "cell_type": "code",
   "execution_count": 6,
   "metadata": {},
   "outputs": [],
   "source": [
    "youtube_url=\"https://www.youtube.com/watch?v=9kU6jb8XXpw\" #펭TV 남극 동물의 한국식 여름 휴가, 코멘트 많은\n",
    "youtube_url_no_comment=\"https://www.youtube.com/watch?v=S2qJAO03SsU\" #코멘트 없는\n",
    "youtube_url_few_comment=\"https://www.youtube.com/watch?v=-5WjyN53Zw4\" #코멘트 적은"
   ]
  },
  {
   "cell_type": "code",
   "execution_count": 4,
   "metadata": {},
   "outputs": [],
   "source": [
    "browser=fire_fox_browser(image_allow=True)"
   ]
  },
  {
   "cell_type": "code",
   "execution_count": 8,
   "metadata": {},
   "outputs": [],
   "source": [
    "browser.quit()"
   ]
  },
  {
   "cell_type": "code",
   "execution_count": 13,
   "metadata": {},
   "outputs": [],
   "source": [
    "from selenium import webdriver #webdriver\n",
    "from selenium.webdriver.firefox.options import Options #Firefox options\n",
    "from selenium.webdriver.common.keys import Keys #key emulation\n",
    "from bs4 import BeautifulSoup as BS\n",
    "# utility\n",
    "import time\n",
    "\n",
    "#' Firefox factor, inherited from webdriver.Firefox\n",
    "class FactoryFirefoxDriver(webdriver.Firefox):\n",
    "    def __init__(self,headless=False,image_allow=True):\n",
    "        options=Options()\n",
    "        profile=webdriver.FirefoxProfile()\n",
    "        profile.set_preference('permissions.default.image',1 if image_allow else 2)\n",
    "        options.headless=headless #headless mode on?\n",
    "        super().__init__(firefox_profile=profile,options=options)\n",
    "class YouTubeCommentBrowser(FactoryFirefoxDriver):\n",
    "    def __init__(self,headless=False,image_allow=True):\n",
    "        super().__init__(headless,image_allow)\n",
    "    def press_down(self,h,tb=1):\n",
    "        h.send_keys(Keys.END)\n",
    "        time.sleep(tb)\n",
    "    def scroll_down(self,tb=1):\n",
    "        initial_height = self.execute_script(\"return window.scrollY\")\n",
    "        html=self.find_element_by_tag_name('html')\n",
    "        self.press_down(html,tb)\n",
    "        time.sleep(tb)\n",
    "        #self.press_down(html)\n",
    "        last_height = self.execute_script(\"return window.scrollY\")\n",
    "        if initial_height == last_height:\n",
    "            return False\n",
    "        while True:\n",
    "            time.sleep(tb)\n",
    "            new_height=self.execute_script(\"return window.scrollY\")\n",
    "            if new_height==last_height:\n",
    "                break\n",
    "            last_height=new_height\n",
    "        return True\n",
    "    def remove_element_by_id(self,s,tb=0.5):\n",
    "        script=\"document.getElementById('{}').remove();\".format(s)\n",
    "        self.execute_script(script)\n",
    "        time.sleep(tb)\n",
    "    def remove_comments(self,tb=0.5):\n",
    "        script='''\n",
    "        document.querySelectorAll(\"#replies\").forEach(function(item,index){item.remove();});\n",
    "        var reviews=document.querySelectorAll('#body');\n",
    "        reviews.forEach(function(item,index){\n",
    "        if(index<(reviews.length-1)) item.remove();\n",
    "        })\n",
    "        '''\n",
    "        self.execute_script(script)\n",
    "        time.sleep(tb)\n",
    "    def reply_more(self,tb=1):\n",
    "        code_view='//yt-formatted-string[starts-with(.,\"View\") and contains(.,\"reply\")]'\n",
    "        code_show_more_replies='//yt-formatted-string[starts-with(.,\"View\") and contains(.,\"replies\")]'\n",
    "        eles=self.find_elements_by_xpath(code_view)\n",
    "        for ele in eles:\n",
    "            try:\n",
    "                if ele.text is not \"\":\n",
    "                    ele.click()\n",
    "                    time.sleep(0.1)\n",
    "            except:\n",
    "                pass\n",
    "        eles=self.find_elements_by_xpath(code_show_more_replies)\n",
    "        for ele in eles:\n",
    "            try:\n",
    "                if ele.text is not \"\":\n",
    "                    ele.click()\n",
    "                    time.sleep(0.1)\n",
    "            except:\n",
    "                pass\n",
    "        time.sleep(tb)\n",
    "    def text_more(self,tb=1):\n",
    "        code_read_more='//span[contains(.,\"Read more\")]'\n",
    "        eles=self.find_elements_by_xpath(code_read_more)\n",
    "        for ele in eles:\n",
    "            try:\n",
    "                if ele.text is not \"\":\n",
    "                    ele.click()\n",
    "                    time.sleep(0.1)\n",
    "            except:\n",
    "                pass\n",
    "        time.sleep(tb)\n",
    "    def visit(self,url,remove_ad=True,remove_player=False,tb=5):\n",
    "        self.get(url)\n",
    "        time.sleep(tb)\n",
    "        if remove_ad:\n",
    "            self.remove_element_by_id('related')\n",
    "            time.sleep(0.1)\n",
    "        if remove_player:\n",
    "            self.remove_element_by_id('movie_player')\n",
    "            time.sleep(0.1)\n",
    "    def get_data(self):\n",
    "        page=self.page_source\n",
    "        soup=BS(page,'html.parser')\n",
    "        return [ele.text for ele in soup.select('#content-text')]\n",
    "    def collect_comments(self,verbose=False,remove_previous=True):\n",
    "        total_comment=[] # //TODO - bs4\n",
    "        if verbose:\n",
    "            print(\"Start.\")\n",
    "        while True:\n",
    "            if verbose:\n",
    "                print(\"..Scroll down\")\n",
    "            if self.scroll_down(3) is False:\n",
    "                break\n",
    "            if verbose:\n",
    "                print(\"..Call more replies, read more\")\n",
    "            for i in range(3):\n",
    "                self.reply_more()\n",
    "            self.text_more()\n",
    "            if verbose:\n",
    "                print(\"..Collect data\")\n",
    "                \n",
    "            if remove_previous:\n",
    "                if verbose:\n",
    "                    print(\"..Remove previous comments in the browser\")\n",
    "                total_comment+=self.get_data()\n",
    "                self.remove_comments()\n",
    "        if remove_previous is False:\n",
    "            total_comment=self.get_data()\n",
    "        if verbose:\n",
    "            print(\"Done.\")\n",
    "        return total_comment\n"
   ]
  },
  {
   "cell_type": "code",
   "execution_count": 14,
   "metadata": {},
   "outputs": [],
   "source": [
    "b=YouTubeCommentBrowser(headless=False,image_allow=True)"
   ]
  },
  {
   "cell_type": "code",
   "execution_count": 15,
   "metadata": {},
   "outputs": [],
   "source": [
    "b.visit(youtube_url_few_comment)"
   ]
  },
  {
   "cell_type": "code",
   "execution_count": 16,
   "metadata": {},
   "outputs": [
    {
     "data": {
      "text/plain": [
       "True"
      ]
     },
     "execution_count": 16,
     "metadata": {},
     "output_type": "execute_result"
    }
   ],
   "source": [
    "b.scroll_down()"
   ]
  },
  {
   "cell_type": "markdown",
   "metadata": {},
   "source": [
    "* View ?? replies\n",
    "* View reply\n",
    "* Read more\n"
   ]
  },
  {
   "cell_type": "code",
   "execution_count": 48,
   "metadata": {},
   "outputs": [],
   "source": [
    "code_view='//yt-formatted-string[starts-with(.,\"View\") and contains(.,\"reply\")]'\n",
    "code_show_more_replies='//yt-formatted-string[starts-with(.,\"View\") and contains(.,\"replies\")]'"
   ]
  },
  {
   "cell_type": "code",
   "execution_count": 49,
   "metadata": {},
   "outputs": [],
   "source": [
    "eles=b.find_elements_by_xpath(code_view)"
   ]
  },
  {
   "cell_type": "code",
   "execution_count": 50,
   "metadata": {},
   "outputs": [
    {
     "data": {
      "text/plain": [
       "['View reply',\n",
       " 'View reply from 솔루션연구소',\n",
       " 'View reply',\n",
       " 'View reply',\n",
       " 'View reply',\n",
       " 'View reply',\n",
       " 'View reply',\n",
       " 'View reply',\n",
       " 'View reply']"
      ]
     },
     "execution_count": 50,
     "metadata": {},
     "output_type": "execute_result"
    }
   ],
   "source": [
    "[i.text for i in eles]"
   ]
  },
  {
   "cell_type": "code",
   "execution_count": 51,
   "metadata": {},
   "outputs": [],
   "source": [
    "for ele in eles:\n",
    "    try:\n",
    "        if ele.text is not \"\":\n",
    "            ele.click()\n",
    "            time.sleep(0.1)\n",
    "    except:\n",
    "        pass"
   ]
  },
  {
   "cell_type": "code",
   "execution_count": 52,
   "metadata": {},
   "outputs": [],
   "source": [
    "eles=b.find_elements_by_xpath(code_show_more_replies)"
   ]
  },
  {
   "cell_type": "code",
   "execution_count": 53,
   "metadata": {
    "scrolled": true
   },
   "outputs": [
    {
     "data": {
      "text/plain": [
       "['View 13 replies',\n",
       " 'View 4 replies',\n",
       " 'View 2 replies',\n",
       " 'View 12 replies',\n",
       " 'View 24 replies',\n",
       " 'View 3 replies',\n",
       " 'View 6 replies',\n",
       " 'View 2 replies',\n",
       " 'View 2 replies from 솔루션연구소 and others',\n",
       " 'View 2 replies',\n",
       " 'View 3 replies',\n",
       " 'View 2 replies',\n",
       " 'View 16 replies',\n",
       " 'View 3 replies',\n",
       " 'View 11 replies',\n",
       " 'View 3 replies',\n",
       " 'View 2 replies',\n",
       " 'View 4 replies',\n",
       " 'View 9 replies',\n",
       " 'View 2 replies',\n",
       " 'View 4 replies',\n",
       " 'View 2 replies',\n",
       " 'View 10 replies']"
      ]
     },
     "execution_count": 53,
     "metadata": {},
     "output_type": "execute_result"
    }
   ],
   "source": [
    "[i.text for i in eles]"
   ]
  },
  {
   "cell_type": "code",
   "execution_count": 54,
   "metadata": {},
   "outputs": [
    {
     "name": "stdout",
     "output_type": "stream",
     "text": [
      "View 13 replies\n",
      "View 4 replies\n",
      "View 2 replies\n",
      "View 12 replies\n",
      "View 24 replies\n",
      "View 3 replies\n",
      "View 6 replies\n",
      "View 2 replies\n",
      "View 2 replies from 솔루션연구소 and others\n",
      "View 2 replies\n",
      "View 3 replies\n",
      "View 2 replies\n",
      "View 16 replies\n",
      "View 3 replies\n",
      "View 11 replies\n",
      "View 3 replies\n",
      "View 2 replies\n",
      "View 4 replies\n",
      "View 9 replies\n",
      "View 2 replies\n",
      "View 4 replies\n",
      "View 2 replies\n",
      "View 10 replies\n"
     ]
    }
   ],
   "source": [
    "for ele in eles:\n",
    "    try:\n",
    "        if ele.text is not \"\":\n",
    "            print(ele.text)\n",
    "            ele.click()\n",
    "            time.sleep(0.1)\n",
    "    except:\n",
    "        pass"
   ]
  },
  {
   "cell_type": "code",
   "execution_count": 35,
   "metadata": {},
   "outputs": [
    {
     "data": {
      "text/plain": [
       "'View 13 replies'"
      ]
     },
     "execution_count": 35,
     "metadata": {},
     "output_type": "execute_result"
    }
   ],
   "source": [
    "eles[0].text"
   ]
  },
  {
   "cell_type": "code",
   "execution_count": 39,
   "metadata": {},
   "outputs": [
    {
     "data": {
      "text/plain": [
       "selenium.webdriver.firefox.webelement.FirefoxWebElement"
      ]
     },
     "execution_count": 39,
     "metadata": {},
     "output_type": "execute_result"
    }
   ],
   "source": [
    "type(eles[0])"
   ]
  },
  {
   "cell_type": "code",
   "execution_count": 44,
   "metadata": {},
   "outputs": [],
   "source": [
    "eles[0].click()"
   ]
  },
  {
   "cell_type": "code",
   "execution_count": null,
   "metadata": {},
   "outputs": [],
   "source": []
  }
 ],
 "metadata": {
  "kernelspec": {
   "display_name": "Python 3",
   "language": "python",
   "name": "python3"
  },
  "language_info": {
   "codemirror_mode": {
    "name": "ipython",
    "version": 3
   },
   "file_extension": ".py",
   "mimetype": "text/x-python",
   "name": "python",
   "nbconvert_exporter": "python",
   "pygments_lexer": "ipython3",
   "version": "3.7.1"
  }
 },
 "nbformat": 4,
 "nbformat_minor": 4
}
