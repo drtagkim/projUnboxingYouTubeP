{
 "cells": [
  {
   "cell_type": "markdown",
   "metadata": {},
   "source": [
    "# YouTube CC\n",
    "자동생성된 영어 CC를 가져오도록 프로그램함\n",
    "\n",
    "* 다만, 자막 생성을 불허한 동영상은 값이 없음\n",
    "* dict object로 저장(pickle) -> 나중에 결합하기로\n",
    "* 2020년 4월 3일\n",
    "* 광운대학교 김태경(PhD)"
   ]
  },
  {
   "cell_type": "code",
   "execution_count": 5,
   "metadata": {
    "scrolled": true
   },
   "outputs": [],
   "source": [
    "from youtube_transcript_api import YouTubeTranscriptApi\n",
    "import pandas as pd\n",
    "import sys\n",
    "import numpy as np\n",
    "import pickle\n",
    "import time"
   ]
  },
  {
   "cell_type": "code",
   "execution_count": 6,
   "metadata": {},
   "outputs": [],
   "source": [
    "class YouTubeCC:\n",
    "    def __init__(self,video_id):\n",
    "        self.video_id=video_id\n",
    "        self.lang=['en',]\n",
    "        try:\n",
    "            transcription_list=YouTubeTranscriptApi.list_transcripts(self.video_id)\n",
    "            gencc=transcription_list.find_generated_transcript(['en',])\n",
    "            self.content=gencc.fetch()\n",
    "        except:\n",
    "            pass\n",
    "    def get_content(self):\n",
    "        output=None\n",
    "        try:\n",
    "            output=self.content\n",
    "        except:\n",
    "            pass\n",
    "        return output\n",
    "    def get_cc(self):\n",
    "        item=None\n",
    "        try:\n",
    "            item_list=[pd.DataFrame(r,index=[0]) for r in self.content]\n",
    "            item=pd.concat(item_list)\n",
    "            item=item.reset_index()\n",
    "            del item['index']\n",
    "            item['video_id']=self.video_id\n",
    "            self.cc=item\n",
    "        except:\n",
    "            pass\n",
    "        return item"
   ]
  },
  {
   "cell_type": "markdown",
   "metadata": {},
   "source": [
    "### 데이터 로딩"
   ]
  },
  {
   "cell_type": "code",
   "execution_count": 7,
   "metadata": {},
   "outputs": [],
   "source": [
    "data_ku_20200402=pd.read_csv(\"data_ku_20200402.csv\")\n",
    "video_ids=data_ku_20200402.iloc[:,3]\n",
    "video_ids=np.array(video_ids)"
   ]
  },
  {
   "cell_type": "code",
   "execution_count": 8,
   "metadata": {},
   "outputs": [
    {
     "data": {
      "text/plain": [
       "13802"
      ]
     },
     "execution_count": 8,
     "metadata": {},
     "output_type": "execute_result"
    }
   ],
   "source": [
    "video_ids.size"
   ]
  },
  {
   "cell_type": "markdown",
   "metadata": {},
   "source": [
    "전체 ID는 13802개. 우선 13800개를 처리."
   ]
  },
  {
   "cell_type": "code",
   "execution_count": 9,
   "metadata": {},
   "outputs": [],
   "source": [
    "batch=100 #한번에 처리할 배치의 크기"
   ]
  },
  {
   "cell_type": "code",
   "execution_count": 10,
   "metadata": {},
   "outputs": [],
   "source": [
    "video_ids=video_ids[:13800]\n",
    "video_ids_batch=np.split(video_ids,int(video_ids.size/batch))"
   ]
  },
  {
   "cell_type": "code",
   "execution_count": 11,
   "metadata": {},
   "outputs": [
    {
     "data": {
      "text/plain": [
       "138"
      ]
     },
     "execution_count": 11,
     "metadata": {},
     "output_type": "execute_result"
    }
   ],
   "source": [
    "len(video_ids_batch)"
   ]
  },
  {
   "cell_type": "markdown",
   "metadata": {},
   "source": [
    "전체 배치의 크기는 138개. 0부터 137번"
   ]
  },
  {
   "cell_type": "markdown",
   "metadata": {},
   "source": [
    "### Runner"
   ]
  },
  {
   "cell_type": "code",
   "execution_count": 12,
   "metadata": {},
   "outputs": [],
   "source": [
    "def run(batch_id):\n",
    "    result={}\n",
    "    cursor=1\n",
    "    for i in video_ids_batch[batch_id]:\n",
    "        cc=YouTubeCC(i)\n",
    "        ccout=cc.get_cc()\n",
    "        result[i]=ccout\n",
    "        if cursor%10==0:\n",
    "            sys.stdout.write(\"%d\"%cursor)\n",
    "        else:\n",
    "            if cursor%2==0:\n",
    "                sys.stdout.write(\".\")\n",
    "        cursor+=1\n",
    "        time.sleep(5) #5초 간격으로 YouTube 접속\n",
    "    sys.stdout.write(\"!\\n\")\n",
    "    return result"
   ]
  },
  {
   "cell_type": "markdown",
   "metadata": {},
   "source": [
    "### Batch"
   ]
  },
  {
   "cell_type": "code",
   "execution_count": 13,
   "metadata": {},
   "outputs": [
    {
     "name": "stdout",
     "output_type": "stream",
     "text": [
      "batch id 21\n",
      "....10....20....30....40....50....60....70....80....90....100!\n",
      "OK\n",
      "batch id 22\n",
      "....10....20....30....40....50....60....70....80....90....100!\n",
      "OK\n",
      "batch id 23\n",
      "....10....20....30....40....50....60....70....80....90....100!\n",
      "OK\n",
      "batch id 24\n",
      "....10....20....30....40....50....60....70....80....90....100!\n",
      "OK\n",
      "batch id 25\n",
      "....10....20....30....40....50....60....70....80....90....100!\n",
      "OK\n",
      "batch id 26\n",
      "....10....20....30....40....50....60....70....80....90....100!\n",
      "OK\n",
      "batch id 27\n",
      "....10....20....30....40....50....60....70....80....90....100!\n",
      "OK\n",
      "batch id 28\n",
      "....10....20....30....40....50....60....70....80....90....100!\n",
      "OK\n",
      "batch id 29\n",
      "....10....20....30....40....50....60....70....80....90....100!\n",
      "OK\n",
      "batch id 30\n",
      "....10....20....30....40....50....60....70....80....90....100!\n",
      "OK\n",
      "batch id 31\n",
      "....10....20....30....40....50....60....70....80....90....100!\n",
      "OK\n",
      "batch id 32\n",
      "....10....20....30....40....50....60....70....80....90....100!\n",
      "OK\n",
      "batch id 33\n",
      "....10....20....30....40....50....60....70....80....90....100!\n",
      "OK\n",
      "batch id 34\n",
      "....10....20....30....40....50....60....70....80....90....100!\n",
      "OK\n",
      "batch id 35\n",
      "....10....20....30....40....50....60....70....80....90....100!\n",
      "OK\n",
      "batch id 36\n",
      "....10....20....30....40....50....60....70....80....90....100!\n",
      "OK\n",
      "batch id 37\n",
      "....10....20....30....40....50....60....70....80....90....100!\n",
      "OK\n",
      "batch id 38\n",
      "....10....20....30....40....50....60....70....80....90....100!\n",
      "OK\n",
      "batch id 39\n",
      "....10....20....30....40....50....60....70....80....90....100!\n",
      "OK\n",
      "batch id 40\n",
      "....10....20....30....40....50....60....70....80....90....100!\n",
      "OK\n",
      "batch id 41\n",
      "....10....20....30....40....50....60....70....80....90....100!\n",
      "OK\n",
      "batch id 42\n",
      "....10....20....30....40....50....60....70....80....90....100!\n",
      "OK\n",
      "batch id 43\n",
      "....10....20....30....40....50....60....70....80....90....100!\n",
      "OK\n",
      "batch id 44\n",
      "....10....20....30....40....50....60....70....80....90....100!\n",
      "OK\n",
      "batch id 45\n",
      "....10....20....30....40....50....60....70....80....90....100!\n",
      "OK\n",
      "batch id 46\n",
      "....10....20....30....40....50....60....70....80....90....100!\n",
      "OK\n",
      "batch id 47\n",
      "....10....20....30....40....50....60....70....80....90....100!\n",
      "OK\n",
      "batch id 48\n",
      "....10....20....30....40....50....60....70....80....90....100!\n",
      "OK\n",
      "batch id 49\n",
      "....10....20....30....40....50....60....70....80....90....100!\n",
      "OK\n",
      "batch id 50\n",
      "....10....20....30....40....50....60....70....80....90....100!\n",
      "OK\n"
     ]
    }
   ],
   "source": [
    "for i in range(21,50+1):\n",
    "    batch_id=i\n",
    "    print(\"batch id %s\"%i)\n",
    "    videos_result=run(batch_id)\n",
    "    with open(\"youtubecc_{:03d}\".format(batch_id),'wb') as f:\n",
    "        pickle.dump(videos_result,f)\n",
    "    print(\"OK\")"
   ]
  },
  {
   "cell_type": "code",
   "execution_count": null,
   "metadata": {},
   "outputs": [],
   "source": []
  }
 ],
 "metadata": {
  "kernelspec": {
   "display_name": "Python 3",
   "language": "python",
   "name": "python3"
  },
  "language_info": {
   "codemirror_mode": {
    "name": "ipython",
    "version": 3
   },
   "file_extension": ".py",
   "mimetype": "text/x-python",
   "name": "python",
   "nbconvert_exporter": "python",
   "pygments_lexer": "ipython3",
   "version": "3.7.1"
  }
 },
 "nbformat": 4,
 "nbformat_minor": 4
}
